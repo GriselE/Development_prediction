{
  "nbformat": 4,
  "nbformat_minor": 0,
  "metadata": {
    "colab": {
      "name": "Métricas.ipynb",
      "provenance": []
    },
    "kernelspec": {
      "name": "python3",
      "display_name": "Python 3"
    },
    "accelerator": "GPU"
  },
  "cells": [
    {
      "cell_type": "code",
      "metadata": {
        "id": "o0iZu6WzpILB",
        "colab": {
          "base_uri": "https://localhost:8080/"
        },
        "outputId": "633ffbfd-b904-4abc-f00d-dd9e468532ea"
      },
      "source": [
        "from sklearn.metrics import confusion_matrix, f1_score, roc_curve, precision_score, recall_score, accuracy_score, roc_auc_score\n",
        "from sklearn import metrics\n",
        "from mlxtend.plotting import plot_confusion_matrix\n",
        "from keras.models import load_model\n",
        "from keras.preprocessing.image import ImageDataGenerator \n",
        "import numpy as np\n",
        "import matplotlib.pyplot as plt\n",
        "%matplotlib inline\n",
        "import mlxtend\n",
        "print(mlxtend.__version__)\n",
        "import zipfile"
      ],
      "execution_count": null,
      "outputs": [
        {
          "output_type": "stream",
          "text": [
            "0.14.0\n"
          ],
          "name": "stdout"
        }
      ]
    },
    {
      "cell_type": "code",
      "metadata": {
        "id": "FEjH0_pBOjnh"
      },
      "source": [
        "from google.colab import drive"
      ],
      "execution_count": null,
      "outputs": []
    },
    {
      "cell_type": "code",
      "metadata": {
        "colab": {
          "base_uri": "https://localhost:8080/"
        },
        "id": "Y3_xBzvgOsTA",
        "outputId": "2b97f0a6-f016-47a7-af17-8489523a2428"
      },
      "source": [
        "drive.mount('/content/drive/')"
      ],
      "execution_count": null,
      "outputs": [
        {
          "output_type": "stream",
          "text": [
            "Mounted at /content/drive/\n"
          ],
          "name": "stdout"
        }
      ]
    },
    {
      "cell_type": "code",
      "metadata": {
        "id": "VtmHXpaqpVRW"
      },
      "source": [
        "width_shape = 224\n",
        "height_shape = 224\n",
        "batch_size = 32 \n",
        "\n",
        "names = ['clase1','clase2', 'clase3']"
      ],
      "execution_count": null,
      "outputs": []
    },
    {
      "cell_type": "code",
      "metadata": {
        "id": "X1Nwq3RtJljH"
      },
      "source": [
        "width_shape = 224\n",
        "height_shape = 224\n",
        "batch_size = 32 \n",
        "\n",
        "names = ['Rural','Urbano']"
      ],
      "execution_count": null,
      "outputs": []
    },
    {
      "cell_type": "code",
      "metadata": {
        "id": "JGy18FrkOWDQ"
      },
      "source": [
        "#zip_ref = zipfile.ZipFile(\"/content/drive/Shareddrives/PovertyModels/data/La_Paz.zip\", 'r')\n",
        "#zip_ref = zipfile.ZipFile(\"/content/drive/Shareddrives/PovertyModels/data/dataset10.zip\", 'r')\n",
        "#zip_ref = zipfile.ZipFile(\"/content/drive/Shareddrives/PovertyModels/data/Dataset6.zip\", 'r')\n",
        "zip_ref = zipfile.ZipFile(\"/content/drive/Shareddrives/PovertyModels/data/Data_Rural_vs_Urbano2.zip\", 'r')\n",
        "\n",
        "#zip_ref = zipfile.ZipFile(\"/content/drive/Shareddrives/PovertyModels/data/Oruro1.zip\", 'r')\n",
        "zip_ref.extractall(\"/tmp\")\n",
        "zip_ref.close()"
      ],
      "execution_count": null,
      "outputs": []
    },
    {
      "cell_type": "code",
      "metadata": {
        "id": "0ty8tXqPqmrG",
        "colab": {
          "base_uri": "https://localhost:8080/"
        },
        "outputId": "9d717fe4-3362-4e65-9a72-bdeea3d877f3"
      },
      "source": [
        "test_data_dir = '/tmp/Data_Rural_vs_Urbano2/Dev/'  \n",
        "\n",
        "test_datagen = ImageDataGenerator()\n",
        "\n",
        "test_generator = test_datagen.flow_from_directory(\n",
        "    test_data_dir,\n",
        "    target_size=(width_shape, height_shape), \n",
        "    batch_size = batch_size,\n",
        "    class_mode='categorical', \n",
        "    shuffle=False)\n",
        "\n",
        "\n",
        "#custom_Model= load_model('/content/drive/Shareddrives/PovertyModels/Modelos/modeloFTL_Rnet.h5')\n",
        "custom_Model = load_model('/content/drive/Shareddrives/PovertyModels/Modelos/modelRvU_Resnet.h5')\n",
        "\n",
        "predictions = custom_Model.predict_generator(generator=test_generator)\n",
        "\n",
        "y_pred = np.argmax(predictions, axis=1)\n",
        "y_real = test_generator.classes"
      ],
      "execution_count": null,
      "outputs": [
        {
          "output_type": "stream",
          "text": [
            "Found 110 images belonging to 2 classes.\n"
          ],
          "name": "stdout"
        },
        {
          "output_type": "stream",
          "text": [
            "/usr/local/lib/python3.7/dist-packages/keras/engine/training.py:1976: UserWarning: `Model.predict_generator` is deprecated and will be removed in a future version. Please use `Model.predict`, which supports generators.\n",
            "  warnings.warn('`Model.predict_generator` is deprecated and '\n"
          ],
          "name": "stderr"
        }
      ]
    },
    {
      "cell_type": "code",
      "metadata": {
        "id": "ofREJiXrR1Vm"
      },
      "source": [
        "from mlxtend.plotting import plot_confusion_matrix\n",
        "import matplotlib.pyplot as plt\n",
        "import numpy as np"
      ],
      "execution_count": null,
      "outputs": []
    },
    {
      "cell_type": "code",
      "metadata": {
        "colab": {
          "base_uri": "https://localhost:8080/",
          "height": 393
        },
        "id": "SZ7ZOc4zliYG",
        "outputId": "c97dcc43-9485-4204-de26-c978ba9a7c7f"
      },
      "source": [
        "matc2=confusion_matrix(y_real, y_pred,)\n",
        "print(matc2)\n",
        "plot_confusion_matrix(conf_mat=matc2, figsize=(6,6), colorbar= True, show_absolute=False, show_normed=True)\n",
        "#plot_confusion_matrix(conf_mat=matc, figsize=(6,6), class_names = names, show_normed=False)\n",
        "plt.show()\n",
        "#plt.tight_layout()"
      ],
      "execution_count": null,
      "outputs": [
        {
          "output_type": "stream",
          "text": [
            "[[60  1]\n",
            " [ 8 41]]\n"
          ],
          "name": "stdout"
        },
        {
          "output_type": "display_data",
          "data": {
            "image/png": "[encoded data removed]",
            "text/plain": [
              "<Figure size 432x432 with 2 Axes>"
            ]
          },
          "metadata": {
            "tags": [],
            "needs_background": "light"
          }
        }
      ]
    },
    {
      "cell_type": "code",
      "metadata": {
        "id": "hxl72rcsv7er",
        "colab": {
          "base_uri": "https://localhost:8080/"
        },
        "outputId": "48a991db-2a7d-4f86-e79c-0d21df0d2c62"
      },
      "source": [
        "print(metrics.classification_report(y_pred,y_real, digits = 4))"
      ],
      "execution_count": null,
      "outputs": [
        {
          "output_type": "stream",
          "text": [
            "              precision    recall  f1-score   support\n",
            "\n",
            "           0     0.8140    0.7572    0.7846       416\n",
            "           1     0.2300    0.9485    0.3702        97\n",
            "           2     0.9725    0.5772    0.7244       674\n",
            "\n",
            "    accuracy                         0.6706      1187\n",
            "   macro avg     0.6722    0.7609    0.6264      1187\n",
            "weighted avg     0.8563    0.6706    0.7165      1187\n",
            "\n"
          ],
          "name": "stdout"
        }
      ]
    }
  ]
}